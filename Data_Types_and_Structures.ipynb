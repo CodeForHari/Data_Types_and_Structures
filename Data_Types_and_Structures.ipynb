{
  "nbformat": 4,
  "nbformat_minor": 0,
  "metadata": {
    "colab": {
      "provenance": []
    },
    "kernelspec": {
      "name": "python3",
      "display_name": "Python 3"
    },
    "language_info": {
      "name": "python"
    }
  },
  "cells": [
    {
      "cell_type": "markdown",
      "source": [
        "> # **Data Types and Structures Questions**\n",
        "\n",
        "Q1. What are data structures, and why are they important?\n",
        "  - A data structure is a way of organizing, storing, and managing data so that it can be used efficiently. It defines how data elements are arranged in memory and how different operations such as searching, insertion, deletion, and updating can be performed on them. They are important because the choice of data structure directly affects the performance of an algorithm and the overall efficiency of a program.\n",
        "\n",
        "Q2. Explain the difference between mutable and immutable data types with examples?\n",
        "  - In programming, mutable data types are those whose values can be changed or modified after they are created, whereas immutable data types cannot be changed once they are created.\n",
        "\n",
        "  - For example, in Python, a list is mutable, which means you can add, remove, or update elements inside it: my_list = [1, 2, 3] and then my_list[0] = 10 will change the list to [10, 2, 3].\n",
        "  - On the other hand, a string is immutable, so once it is created, its content cannot be changed. If you try to modify a string like my_str = \"Hello\" and then attempt my_str[0] = \"J\", it will give an error. Instead, you have to create a new string, such as my_str = \"Jello\".\n",
        "\n",
        "Q3. What are the main differences between lists and tuples in Python?\n",
        "  - In Python, the main difference between lists and tuples is that lists are mutable, while tuples are immutable. This means that in a list you can add, remove, or change elements after it is created, for example: my_list = [1, 2, 3] and then my_list.append(4) will give [1, 2, 3, 4]. However, a tuple cannot be modified once defined, so my_tuple = (1, 2, 3) will always remain the same; you cannot append or update its elements. Because tuples are immutable, they are generally faster in execution and can be used as keys in dictionaries, while lists cannot.\n",
        "\n",
        "Q4. Describe how dictionaries store data.\n",
        "  - A dictionary stores data in the form of key-value pairs, where each key is unique and maps to a specific value. Internally, dictionaries use a hashing mechanism to store and retrieve data efficiently. When you create a dictionary like my_dict = {\"name\": \"Hari\", \"age\": 22}, Python calculates a hash value for each key (e.g., \"name\" and \"age\") and uses it to determine where the corresponding value will be stored in memory.\n",
        "\n",
        "Q5.  Why might you use a set instead of a list in Python?\n",
        "  - You might use a set instead of a list in Python when you need to store unique items and don’t care about their order. A set automatically removes duplicates, so if you create my_set = {1, 2, 2, 3}, it will only store {1, 2, 3}. Sets are also optimized for faster membership testing (checking if an element exists), because they use hashing internally, whereas lists require scanning through all elements one by one. However, unlike lists, sets do not maintain the order of elements and do not allow indexing or slicing. So, sets are best when uniqueness and quick lookups matter more than order or position.\n",
        "\n",
        "Q6. What is a string in Python, and how is it different from a list?\n",
        "  - In Python, a string is a sequence of characters enclosed within single quotes ('), double quotes (\"), or triple quotes (''' or \"\"\"). For example, \"Hello\" is a string. It is used to represent text data and is immutable, meaning once a string is created, it cannot be changed directly. In contrast, a list is a collection of items (which can be numbers, strings, or even other lists) enclosed in square brackets, like [1, 2, 3], and it is mutable, so you can add, remove, or modify elements.\n",
        "\n",
        "Q7. How do tuples ensure data integrity in Python?\n",
        "  - Tuples ensure data integrity in Python because they are immutable, meaning once a tuple is created, its elements cannot be changed, added, or removed. For example, if you define my_tuple = (10, 20, 30), the values will always stay the same unless you create an entirely new tuple. This immutability prevents accidental modifications, making tuples a safer choice when you want to store data that should remain constant throughout the program, such as fixed configurations, geographic coordinates, or keys in a dictionary. By locking the data, tuples provide stability and reliability, which helps maintain data integrity.\n",
        "\n",
        "Q8. What is a hash table, and how does it relate to dictionaries in Python?\n",
        "  - A hash table is a data structure that stores data in key-value pairs and uses a hashing function to compute an index (or hash code) for each key. This index determines where the corresponding value is stored in memory, allowing for very fast data access. In Python, a dictionary is implemented using a hash table. When you store data in a dictionary like my_dict = {\"name\": \"Hari\", \"age\": 22}, Python applies a hash function to each key (\"name\", \"age\") to find a unique position in memory and then stores the values at those positions. Because of this, dictionary lookups, insertions, and deletions are generally very efficient (average time complexity O(1)).\n",
        "\n",
        "Q9. Can lists contain different data types in Python?\n",
        "  - Yes, lists in Python can contain different data types. A single list can hold integers, strings, floats, booleans, or even other lists and objects. For example, my_list = [10, \"Hello\", 3.14, True, [1, 2, 3]] is completely valid in Python. This flexibility makes lists very powerful for handling mixed data. However, while lists allow multiple data types, it’s generally better for readability and performance to keep elements of the same type if the list is meant for a specific purpose (like storing only numbers).\n",
        "\n",
        "Q10. Explain why strings are immutable in Python.\n",
        "  - Strings are immutable in Python because once a string object is created, its value cannot be changed. This design choice is intentional and provides several benefits. First, immutability makes strings memory-efficient and secure, since the same string value can be safely shared across different parts of a program without the risk of being altered unexpectedly. Second, it makes strings hashable, which allows them to be used as keys in dictionaries and elements in sets. For example, if \"Hari\" is stored in memory, any variable pointing to that string will always refer to the same unchangeable value. If you try to modify it, like replacing a character, Python actually creates a new string object instead of altering the original one. This ensures reliability, consistency, and better performance in string operations.\n",
        "\n",
        "Q11. What advantages do dictionaries offer over lists for certain tasks?\n",
        "  - Dictionaries offer several advantages over lists for certain tasks because they store data in key-value pairs instead of just sequential elements. The biggest advantage is fast lookups — with a dictionary, you can directly access a value using its key (e.g., student[\"name\"]) without having to search through the whole collection, whereas in a list you would need to loop or know the exact index. Dictionaries also allow you to give meaningful keys instead of relying on numeric indexes, which makes the code more readable and intuitive.\n",
        "\n",
        "Q12. Describe a scenario where using a tuple would be preferable over a list.\n",
        "  - A tuple would be preferable over a list in a scenario where the data should remain constant and unchangeable throughout the program.\n",
        "    - For example, if you are storing the geographic coordinates of a location, like coordinates = (27.18, 78.02), it makes sense to use a tuple because latitude and longitude should not be altered accidentally. Similarly, tuples are useful for fixed configurations, such as RGB color values (255, 0, 0) for red, or storing days of the week. Since tuples are immutable and faster than lists, they also work well as keys in dictionaries, something lists cannot do. In short, whenever you want to ensure data integrity, immutability, or use data as a dictionary key, tuples are the better choice.\n",
        "\n",
        "Q13. How do sets handle duplicate values in Python?\n",
        "  - In Python, sets automatically remove duplicate values because they are designed to store only unique elements. When you create a set, any repeated items are ignored. For example, if you write my_set = {1, 2, 2, 3, 3, 3}, Python will store it as {1, 2, 3}. This behavior is possible because sets use hashing internally, where each element’s hash value determines its place in the set. If a duplicate element is added, its hash matches an existing one, so Python skips storing it again. This makes sets very useful when you want to automatically filter duplicates from a collection of data.\n",
        "\n",
        "Q14. How does the “in” keyword work differently for lists and dictionaries?\n",
        "  - The in keyword works differently for lists and dictionaries in Python because of how data is stored in each.\n",
        "\n",
        "  - For a list, in checks whether a given value exists among the list’s elements. For example, 5 in [1, 2, 3, 5] will return True because 5 is one of the elements.\n",
        "\n",
        "  - For a dictionary, in checks whether a given key exists, not the value. For example, in my_dict = {\"name\": \"Hari\", \"age\": 22}, the expression \"name\" in my_dict returns True, but \"Hari\" in my_dict returns False because \"Hari\" is a value, not a key. If you want to check values in a dictionary, you need to use \"Hari\" in my_dict.values().\n",
        "\n",
        "  - So, the difference is: in checks elements in lists, but checks keys in dictionaries by default\n",
        "\n",
        "Q15. Can you modify the elements of a tuple? Explain why or why not.\n",
        "  - No, you cannot modify the elements of a tuple in Python because tuples are immutable. Once a tuple is created, its elements cannot be changed, added, or removed. For example, if you define my_tuple = (10, 20, 30), trying to do my_tuple[0] = 50 will result in an error.\n",
        "\n",
        "  - The reason is that immutability ensures data integrity and stability — the data inside a tuple remains fixed, which makes tuples safe to use as dictionary keys or in situations where constant values are needed. However, if a tuple contains a mutable object (like a list), the contents of that object can still be modified, but the tuple’s structure (its references) cannot be changed.\n",
        "\n",
        "Q16. What is a nested dictionary, and give an example of its use case?\n",
        "  - A nested dictionary in Python is a dictionary inside another dictionary, meaning the values themselves can be dictionaries. This allows you to store data in a hierarchical or structured way.\n",
        "  \n",
        "    - For example:\n"
      ],
      "metadata": {
        "id": "FuNgn6r5oBLp"
      }
    },
    {
      "cell_type": "code",
      "execution_count": 1,
      "metadata": {
        "id": "Tmco1nuAn92i"
      },
      "outputs": [],
      "source": [
        "students = {\n",
        "    \"101\": {\"name\": \"Hari\", \"age\": 22, \"course\": \"B.Com\"},\n",
        "    \"102\": {\"name\": \"Riya\", \"age\": 20, \"course\": \"B.Sc\"},\n",
        "    \"103\": {\"name\": \"Aman\", \"age\": 21, \"course\": \"B.A\"}\n",
        "}\n"
      ]
    },
    {
      "cell_type": "markdown",
      "source": [
        "  - Here, each student’s ID is a key, and the value is another dictionary holding details like name, age, and course.\n",
        "\n",
        "  - A common use case of nested dictionaries is when you need to represent structured data, such as storing student records in a school system, employee details in a company, or configuration settings in a program. It makes data organized, readable, and easy to access, for example:\n",
        "students[\"101\"][\"name\"] will give \"Hari\".\n",
        "\n",
        "Q17. Describe the time complexity of accessing elements in a dictionary.\n",
        "  - Accessing elements in a dictionary in Python is generally very fast because it is implemented using a hash table. On average, the time complexity of accessing an element by its key is O(1), meaning it takes constant time regardless of the size of the dictionary.\n",
        "    - For example:"
      ],
      "metadata": {
        "id": "QScwgZY1wB3P"
      }
    },
    {
      "cell_type": "code",
      "source": [
        "my_dict = {\"name\": \"Hari\", \"age\": 22, \"city\": \"Gorakhpur\"}\n",
        "print(my_dict[\"age\"])   # Accessing by key → O(1)"
      ],
      "metadata": {
        "colab": {
          "base_uri": "https://localhost:8080/"
        },
        "id": "orYFIDufw68a",
        "outputId": "a2accd5e-e7f0-4c79-e46c-61ca63245c06"
      },
      "execution_count": 2,
      "outputs": [
        {
          "output_type": "stream",
          "name": "stdout",
          "text": [
            "22\n"
          ]
        }
      ]
    },
    {
      "cell_type": "markdown",
      "source": [
        "  - However, in rare cases, due to hash collisions (when two keys produce the same hash value), the time complexity can degrade to O(n) in the worst case, where n is the number of elements in the dictionary. But thanks to Python’s optimized hashing mechanism, such cases are very uncommon, and dictionary lookups are considered efficient and reliable for practical use.\n",
        "\n",
        "Q18. In what situations are lists preferred over dictionaries?\n",
        "  - Lists are preferred over dictionaries in situations where order and sequence matter or when you only need to store values without unique keys. For example, if you’re keeping track of a series of items like numbers, names, or tasks, a list is simpler and more efficient because you can access elements by their index (e.g., my_list[0]). Lists are also better when you need to maintain duplicates, since dictionaries don’t allow duplicate keys.\n",
        "\n",
        "> Some common situations include:\n",
        "  - Storing a to-do list of tasks in order.\n",
        "  - Keeping track of marks for students in the sequence they were entered.\n",
        "  - Iterating through a simple collection of values where keys are unnecessary.\n",
        "  - Performing operations like sorting, slicing, or appending items.\n",
        "\n",
        "Q19. Why are dictionaries considered unordered, and how does that affect data retrieval?\n",
        "  - Dictionaries are considered unordered because they store data based on the **hash values of keys** rather than in a fixed sequence like lists. This means that items are placed in memory according to their hash, not in the order you insert them. Although from Python 3.7 onward, dictionaries preserve the order of insertion for convenience, they are still conceptually unordered because their main purpose is **fast key-based access**, not sequential storage. As a result, you cannot retrieve elements by their position (like index in a list); instead, you must always use the **key** to access a value. This design ensures efficient lookups, insertions, and deletions, but makes dictionaries unsuitable for tasks where strict ordering or indexing is required.\n",
        "\n",
        "Q20.  Explain the difference between a list and a dictionary in terms of data retrieval.\n",
        "  - The main difference between a list and a dictionary in terms of data retrieval lies in how elements are accessed. In a list, data is retrieved using a numeric index, which represents the position of an element in the sequence. For example, my_list[0] gives the first element. Retrieval in a list may require scanning through elements if you don’t know the index, making it slower for large lists when searching by value. In contrast, a dictionary retrieves data using a key, not a position. For instance, my_dict[\"name\"] directly gives the value associated with the key \"name\". This key-based access is generally much faster because dictionaries use hashing, providing average O(1) lookup time. Therefore, lists are suitable for ordered, index-based access, while dictionaries are ideal for fast, key-based retrieval."
      ],
      "metadata": {
        "id": "nAkvTEmOwSca"
      }
    },
    {
      "cell_type": "markdown",
      "source": [
        "> #  **Data Types and Structures Practical Questions**"
      ],
      "metadata": {
        "id": "qK4zwp9O6Qgz"
      }
    },
    {
      "cell_type": "code",
      "source": [
        "# Q1. Write a code to create a string with your name and print it.\n",
        "\n",
        "name = input(\"Enter your name: \")\n",
        "print(f\" Hi {name}, Have a Greate Day ahead\")"
      ],
      "metadata": {
        "colab": {
          "base_uri": "https://localhost:8080/"
        },
        "id": "yyNZq9oW6hf2",
        "outputId": "23e8ed7c-6bf9-4907-d615-7a7198ac2e43"
      },
      "execution_count": 5,
      "outputs": [
        {
          "output_type": "stream",
          "name": "stdout",
          "text": [
            "Enter your name: Hari Shanker Tiwari\n",
            " Hi Hari Shanker Tiwari, Have a Greate Day ahead\n"
          ]
        }
      ]
    },
    {
      "cell_type": "code",
      "source": [
        "# Q2. Write a code to find the length of the string \"Hello World\".\n",
        "\n",
        "string = \"Hello World\"\n",
        "print(len(string))"
      ],
      "metadata": {
        "colab": {
          "base_uri": "https://localhost:8080/"
        },
        "id": "MRkLqG9h7z5h",
        "outputId": "51456cb7-d6a4-49ba-b6e0-9638af11f887"
      },
      "execution_count": 6,
      "outputs": [
        {
          "output_type": "stream",
          "name": "stdout",
          "text": [
            "11\n"
          ]
        }
      ]
    },
    {
      "cell_type": "code",
      "source": [
        "# Q3.  Write a code to slice the first 3 characters from the string \"Python Programming\".\n",
        "\n",
        "string = \"Python Programming\"\n",
        "print(string[:3])"
      ],
      "metadata": {
        "colab": {
          "base_uri": "https://localhost:8080/"
        },
        "id": "VNhSW0As8ENJ",
        "outputId": "23b865f7-0a9f-422e-e431-d494b3caea28"
      },
      "execution_count": 7,
      "outputs": [
        {
          "output_type": "stream",
          "name": "stdout",
          "text": [
            "Pyt\n"
          ]
        }
      ]
    },
    {
      "cell_type": "code",
      "source": [
        "# Q4. Write a code to convert the string \"hello\" to uppercase.\n",
        "\n",
        "String = input(\"Enter a string: \")\n",
        "print(String.upper())"
      ],
      "metadata": {
        "colab": {
          "base_uri": "https://localhost:8080/"
        },
        "id": "NOfCvcVM8Ycp",
        "outputId": "cdea2778-0352-4a99-9f4a-3bb72b30df5d"
      },
      "execution_count": 8,
      "outputs": [
        {
          "output_type": "stream",
          "name": "stdout",
          "text": [
            "Enter a string: hello\n",
            "HELLO\n"
          ]
        }
      ]
    },
    {
      "cell_type": "code",
      "source": [
        "# Q5. Write a code to replace the word \"apple\" with \"orange\" in the string \"I like apple\".\n",
        "\n",
        "string = \"I like apple\"\n",
        "print(string.replace(\"apple\", \"orange\"))"
      ],
      "metadata": {
        "colab": {
          "base_uri": "https://localhost:8080/"
        },
        "id": "uJuvj1Gc8qrd",
        "outputId": "e6a40d96-8a8f-44e5-efb1-4d414f6f82ae"
      },
      "execution_count": 9,
      "outputs": [
        {
          "output_type": "stream",
          "name": "stdout",
          "text": [
            "I like orange\n"
          ]
        }
      ]
    },
    {
      "cell_type": "code",
      "source": [
        "# Q6. Write a code to create a list with numbers 1 to 5 and print it.\n",
        "\n",
        "list = [1, 2, 3, 4, 5]\n",
        "print(list)"
      ],
      "metadata": {
        "colab": {
          "base_uri": "https://localhost:8080/"
        },
        "id": "_ObrjyLW9Kbx",
        "outputId": "e19a8f47-7d01-4b03-a442-709863cafb60"
      },
      "execution_count": 10,
      "outputs": [
        {
          "output_type": "stream",
          "name": "stdout",
          "text": [
            "[1, 2, 3, 4, 5]\n"
          ]
        }
      ]
    },
    {
      "cell_type": "code",
      "source": [
        "# Q7. Write a code to append the number 10 to the list [1, 2, 3, 4].\n",
        "\n",
        "list = [1, 2, 3, 4]\n",
        "list.append(10)\n",
        "print(list)"
      ],
      "metadata": {
        "colab": {
          "base_uri": "https://localhost:8080/"
        },
        "id": "kj-sCPKC9kh8",
        "outputId": "f1221196-fe2d-4cd1-b00b-088e9832f1e9"
      },
      "execution_count": 11,
      "outputs": [
        {
          "output_type": "stream",
          "name": "stdout",
          "text": [
            "[1, 2, 3, 4, 10]\n"
          ]
        }
      ]
    },
    {
      "cell_type": "code",
      "source": [
        "# Q8. Write a code to remove the number 3 from the list [1, 2, 3, 4, 5].\n",
        "\n",
        "list = [1, 2, 3, 4, 5]\n",
        "list.remove(3)\n",
        "print(list)"
      ],
      "metadata": {
        "colab": {
          "base_uri": "https://localhost:8080/"
        },
        "id": "D4Pv11ph9vO-",
        "outputId": "a008f685-ee12-4e72-e07d-67981bc2af9b"
      },
      "execution_count": 12,
      "outputs": [
        {
          "output_type": "stream",
          "name": "stdout",
          "text": [
            "[1, 2, 4, 5]\n"
          ]
        }
      ]
    },
    {
      "cell_type": "code",
      "source": [
        "# Q9. Write a code to access the second element in the list ['a', 'b', 'c', 'd'].\n",
        "\n",
        "list = ['a', 'b', 'c', 'd']\n",
        "print(list[1])"
      ],
      "metadata": {
        "colab": {
          "base_uri": "https://localhost:8080/"
        },
        "id": "UEqHt9-Y93bh",
        "outputId": "b49c10ab-9378-40ef-bde8-18002ae68221"
      },
      "execution_count": 13,
      "outputs": [
        {
          "output_type": "stream",
          "name": "stdout",
          "text": [
            "b\n"
          ]
        }
      ]
    },
    {
      "cell_type": "code",
      "source": [
        "# Q10. Write a code to reverse the list [10, 20, 30, 40, 50].\n",
        "\n",
        "#First Methode\n",
        "\n",
        "list = [10, 20, 30, 40, 50]\n",
        "rev_list = list[::-1]\n",
        "print(f\"First Methode:\\n{rev_list}\")\n",
        "\n",
        "#Seccond Methode\n",
        "\n",
        "list = [10, 20, 30, 40, 50]\n",
        "list.reverse()\n",
        "print(f\"\\nSeccond Methode:\\n{list}\")\n"
      ],
      "metadata": {
        "colab": {
          "base_uri": "https://localhost:8080/"
        },
        "id": "rTIkPRAu-CKn",
        "outputId": "b4e2dba9-568f-40bb-ffe2-2ebcaa5f1fdd"
      },
      "execution_count": 32,
      "outputs": [
        {
          "output_type": "stream",
          "name": "stdout",
          "text": [
            "First Methode:\n",
            "[50, 40, 30, 20, 10]\n",
            "\n",
            "Seccond Methode:\n",
            "[50, 40, 30, 20, 10]\n"
          ]
        }
      ]
    },
    {
      "cell_type": "code",
      "source": [
        "# Q11.  Write a code to create a tuple with the elements 100, 200, 300 and print it.\n",
        "\n",
        "tuple = (100, 200, 300)\n",
        "print(tuple)"
      ],
      "metadata": {
        "colab": {
          "base_uri": "https://localhost:8080/"
        },
        "id": "JAJGefP29pqF",
        "outputId": "9564156c-a4b0-44b4-98f4-3b2ce1cd53f5"
      },
      "execution_count": 1,
      "outputs": [
        {
          "output_type": "stream",
          "name": "stdout",
          "text": [
            "(100, 200, 300)\n"
          ]
        }
      ]
    },
    {
      "cell_type": "code",
      "source": [
        "# Q12. Write a code to access the second-to-last element of the tuple ('red', 'green', 'blue', 'yellow').\n",
        "\n",
        "tuple = ('red', 'green', 'blue', 'yellow')\n",
        "print(tuple[-2])"
      ],
      "metadata": {
        "colab": {
          "base_uri": "https://localhost:8080/"
        },
        "id": "ikhzbX799_gc",
        "outputId": "7c256da1-9ce3-43e4-ec0f-1981ba7a983d"
      },
      "execution_count": 2,
      "outputs": [
        {
          "output_type": "stream",
          "name": "stdout",
          "text": [
            "blue\n"
          ]
        }
      ]
    },
    {
      "cell_type": "code",
      "source": [
        "# Q13. Write a code to find the minimum number in the tuple (10, 20, 5, 15).\n",
        "\n",
        "my_tuple = (10, 20, 5, 15)\n",
        "min_num = min(my_tuple)\n",
        "print(\"The minimum number in the tuple is:\", min_num)"
      ],
      "metadata": {
        "colab": {
          "base_uri": "https://localhost:8080/"
        },
        "id": "M00vL-Xw-0F1",
        "outputId": "48971b8b-670d-4a46-f880-a79303dd1eea"
      },
      "execution_count": 3,
      "outputs": [
        {
          "output_type": "stream",
          "name": "stdout",
          "text": [
            "The minimum number in the tuple is: 5\n"
          ]
        }
      ]
    },
    {
      "cell_type": "code",
      "source": [
        "# Q14. Write a code to find the index of the element \"cat\" in the tuple ('dog', 'cat', 'rabbit').\n",
        "\n",
        "my_tuple = ('dog', 'cat', 'rabbit')\n",
        "index = my_tuple.index('cat')\n",
        "print(\"The index of 'cat' is:\", index)"
      ],
      "metadata": {
        "colab": {
          "base_uri": "https://localhost:8080/"
        },
        "id": "Otc8KHYN-_FG",
        "outputId": "c625ffa5-a5bb-4bec-b0b3-b78e4fcc09ac"
      },
      "execution_count": 4,
      "outputs": [
        {
          "output_type": "stream",
          "name": "stdout",
          "text": [
            "The index of 'cat' is: 1\n"
          ]
        }
      ]
    },
    {
      "cell_type": "code",
      "source": [
        "# Q15.  Write a code to create a tuple containing three different fruits and check if \"kiwi\" is in it.\n",
        "\n",
        "my_tuple = (\"apple\", \"banana\", \"cherry\")\n",
        "if \"kiwi\" in my_tuple:\n",
        "    print(\"kiwi is in the tuple\")\n",
        "else:\n",
        "    print(\"kiwi is not in the tuple\")"
      ],
      "metadata": {
        "colab": {
          "base_uri": "https://localhost:8080/"
        },
        "id": "kNh7FoDQ_qsi",
        "outputId": "5bcee67d-d81a-4beb-96cf-437755c4ab6f"
      },
      "execution_count": 5,
      "outputs": [
        {
          "output_type": "stream",
          "name": "stdout",
          "text": [
            "kiwi is not in the tuple\n"
          ]
        }
      ]
    },
    {
      "cell_type": "code",
      "source": [
        "# Q16. Write a code to create a set with the elements 'a', 'b', 'c' and print it.\n",
        "\n",
        "my_set = {'a', 'b', 'c'}\n",
        "print(my_set)"
      ],
      "metadata": {
        "colab": {
          "base_uri": "https://localhost:8080/"
        },
        "id": "lk5sAXFJAKSR",
        "outputId": "b4d0003c-2986-43de-8650-5a8e6838713c"
      },
      "execution_count": 6,
      "outputs": [
        {
          "output_type": "stream",
          "name": "stdout",
          "text": [
            "{'b', 'c', 'a'}\n"
          ]
        }
      ]
    },
    {
      "cell_type": "code",
      "source": [
        "# Q17.  Write a code to clear all elements from the set {1, 2, 3, 4, 5}.\n",
        "\n",
        "my_set = {1, 2, 3, 4, 5}\n",
        "my_set.clear()\n",
        "print(my_set)"
      ],
      "metadata": {
        "colab": {
          "base_uri": "https://localhost:8080/"
        },
        "id": "IDnEm8N7ApTu",
        "outputId": "0ad8aa4a-3c8f-4088-f366-981792020f2a"
      },
      "execution_count": 7,
      "outputs": [
        {
          "output_type": "stream",
          "name": "stdout",
          "text": [
            "set()\n"
          ]
        }
      ]
    },
    {
      "cell_type": "code",
      "source": [
        "# Q18. Write a code to remove the element 4 from the set {1, 2, 3, 4}.\n",
        "\n",
        "my_set = {1, 2, 3, 4}\n",
        "my_set.remove(4)\n",
        "print(my_set)\n"
      ],
      "metadata": {
        "colab": {
          "base_uri": "https://localhost:8080/"
        },
        "id": "WdMzVeCVAy2Q",
        "outputId": "114a8bda-6268-48f6-c041-99eda9df13a5"
      },
      "execution_count": 8,
      "outputs": [
        {
          "output_type": "stream",
          "name": "stdout",
          "text": [
            "{1, 2, 3}\n"
          ]
        }
      ]
    },
    {
      "cell_type": "code",
      "source": [
        "# Q19. Write a code to find the union of two sets {1, 2, 3} and {3, 4, 5}\n",
        "\n",
        "set1 = {1, 2, 3}\n",
        "set2 = {3, 4, 5}\n",
        "union_set = set1.union(set2)\n",
        "print(union_set)"
      ],
      "metadata": {
        "colab": {
          "base_uri": "https://localhost:8080/"
        },
        "id": "L-nbkTE4BHwy",
        "outputId": "a12a296d-d194-4cc5-c199-f4d89cbca710"
      },
      "execution_count": 9,
      "outputs": [
        {
          "output_type": "stream",
          "name": "stdout",
          "text": [
            "{1, 2, 3, 4, 5}\n"
          ]
        }
      ]
    },
    {
      "cell_type": "code",
      "source": [
        "# Q20. Write a code to find the intersection of two sets {1, 2, 3} and {2, 3, 4}.\n",
        "\n",
        "set1 = {1, 2, 3}\n",
        "set2 = {2, 3, 4}\n",
        "intersection_set = set1.intersection(set2)\n",
        "print(intersection_set)"
      ],
      "metadata": {
        "colab": {
          "base_uri": "https://localhost:8080/"
        },
        "id": "Owb9756VBb0_",
        "outputId": "122e5837-08fc-4d83-a0f9-1893a24beeb6"
      },
      "execution_count": 10,
      "outputs": [
        {
          "output_type": "stream",
          "name": "stdout",
          "text": [
            "{2, 3}\n"
          ]
        }
      ]
    },
    {
      "cell_type": "code",
      "source": [
        "# Q21. Write a code to create a dictionary with the keys \"name\", \"age\", and \"city\", and print it.\n",
        "\n",
        "my_dict = {\"name\": \"Hari\", \"age\": 22, \"city\": \"Hyderabad\"}\n",
        "print(my_dict)"
      ],
      "metadata": {
        "colab": {
          "base_uri": "https://localhost:8080/"
        },
        "id": "VaauMTXaBqWQ",
        "outputId": "0a61b908-994f-4f57-d272-143be2f8c728"
      },
      "execution_count": 11,
      "outputs": [
        {
          "output_type": "stream",
          "name": "stdout",
          "text": [
            "{'name': 'Hari', 'age': 22, 'city': 'Gorakhpur'}\n"
          ]
        }
      ]
    },
    {
      "cell_type": "code",
      "source": [
        "# Q22. Write a code to add a new key-value pair \"country\": \"USA\" to the dictionary {'name': 'John', 'age': 25}.\n",
        "\n",
        "my_dict = {'name': 'John', 'age': 25}\n",
        "my_dict[\"country\"] = \"USA\"\n",
        "print(my_dict)"
      ],
      "metadata": {
        "colab": {
          "base_uri": "https://localhost:8080/"
        },
        "id": "iJ48beu7B4o1",
        "outputId": "17b73a34-0045-424c-a03e-3f07b2aaddcd"
      },
      "execution_count": 12,
      "outputs": [
        {
          "output_type": "stream",
          "name": "stdout",
          "text": [
            "{'name': 'John', 'age': 25, 'country': 'USA'}\n"
          ]
        }
      ]
    },
    {
      "cell_type": "code",
      "source": [
        "# Q23. Write a code to access the value associated with the key \"name\" in the dictionary {'name': 'Alice', 'age': 30}.\n",
        "\n",
        "dict = {'name': 'Alice', 'age': 30}\n",
        "print(dict['name'])"
      ],
      "metadata": {
        "colab": {
          "base_uri": "https://localhost:8080/"
        },
        "id": "7KKC1NhcCHvj",
        "outputId": "3744a52e-5435-41dd-cc3b-368fe88080d2"
      },
      "execution_count": 13,
      "outputs": [
        {
          "output_type": "stream",
          "name": "stdout",
          "text": [
            "Alice\n"
          ]
        }
      ]
    },
    {
      "cell_type": "code",
      "source": [
        "# Q24. Write a code to remove the key \"age\" from the dictionary {'name': 'Bob', 'age': 22, 'city': 'New York'}.\n",
        "\n",
        "my_dict = {'name': 'Bob', 'age': 22, 'city': 'New York'}\n",
        "del my_dict['age']\n",
        "print(my_dict)"
      ],
      "metadata": {
        "colab": {
          "base_uri": "https://localhost:8080/"
        },
        "id": "oCXA7abOCcGO",
        "outputId": "e15f8d17-6f3b-4d29-b4a2-9de1bfb6c9b9"
      },
      "execution_count": 14,
      "outputs": [
        {
          "output_type": "stream",
          "name": "stdout",
          "text": [
            "{'name': 'Bob', 'city': 'New York'}\n"
          ]
        }
      ]
    },
    {
      "cell_type": "code",
      "source": [
        "# Q25. Write a code to check if the key \"city\" exists in the dictionary {'name': 'Alice', 'city': 'Paris'}.\n",
        "\n",
        "my_dict = {'name': 'Alice', 'city': 'Paris'}\n",
        "if 'city' in my_dict:\n",
        "    print(\"The key 'city' exists in the dictionary.\")\n",
        "else:\n",
        "    print(\"The key 'city' does not exist in the dictionary.\")"
      ],
      "metadata": {
        "colab": {
          "base_uri": "https://localhost:8080/"
        },
        "id": "h8joTeRVCoaN",
        "outputId": "961dde9e-8690-4a92-f18b-147775807a2a"
      },
      "execution_count": 15,
      "outputs": [
        {
          "output_type": "stream",
          "name": "stdout",
          "text": [
            "The key 'city' exists in the dictionary.\n"
          ]
        }
      ]
    },
    {
      "cell_type": "code",
      "source": [
        "# Q26. Write a code to create a list, a tuple, and a dictionary, and print them all.\n",
        "\n",
        "list = [1, 2, 3, 4, 5]\n",
        "print(list)\n",
        "\n",
        "tuple = (1, 2, 3, 4, 5)\n",
        "print(tuple)\n",
        "\n",
        "dict = {\"name\": \"Hari\", \"age\": 22, \"city\": \"Hyderabad\"}\n",
        "print(dict)\n",
        "\n"
      ],
      "metadata": {
        "colab": {
          "base_uri": "https://localhost:8080/"
        },
        "id": "YeB0SaNNC9Rh",
        "outputId": "ce7a7286-6bed-49eb-c814-503b4604ecbf"
      },
      "execution_count": 17,
      "outputs": [
        {
          "output_type": "stream",
          "name": "stdout",
          "text": [
            "[1, 2, 3, 4, 5]\n",
            "(1, 2, 3, 4, 5)\n",
            "{'name': 'Hari', 'age': 22, 'city': 'Hyderabad'}\n"
          ]
        }
      ]
    },
    {
      "cell_type": "code",
      "metadata": {
        "colab": {
          "base_uri": "https://localhost:8080/"
        },
        "id": "ca11fc9a",
        "outputId": "c3a113c2-523c-4b38-f5b3-df535bc11396"
      },
      "source": [
        "# Q27. # Q27. Write a code to create a list of 5 random numbers between 1 and 100, sort it in ascending order, and print the result.(replaced)\n",
        "\n",
        "random_numbers = [87, 54, 92, 65, 20]\n",
        "random_numbers.sort()\n",
        "print(random_numbers)"
      ],
      "execution_count": 23,
      "outputs": [
        {
          "output_type": "stream",
          "name": "stdout",
          "text": [
            "[20, 54, 65, 87, 92]\n"
          ]
        }
      ]
    },
    {
      "cell_type": "code",
      "source": [
        "# Q28.  Write a code to create a list with strings and print the element at the third index.\n",
        "\n",
        "fruits = [\"apple\", \"banana\", \"cherry\", \"date\", \"elderberry\"]\n",
        "print(fruits[2])"
      ],
      "metadata": {
        "colab": {
          "base_uri": "https://localhost:8080/"
        },
        "id": "1vX7QL3VI8Fq",
        "outputId": "b4532562-5264-461f-cafc-83755fa49430"
      },
      "execution_count": 24,
      "outputs": [
        {
          "output_type": "stream",
          "name": "stdout",
          "text": [
            "cherry\n"
          ]
        }
      ]
    },
    {
      "cell_type": "code",
      "source": [
        "# Q29. Write a code to combine two dictionaries into one and print the result.\n",
        "\n",
        "dict1 = {'a': 1, 'b': 2}\n",
        "dict2 = {'c': 3, 'd': 4}\n",
        "dict3 = {**dict1, **dict2}\n",
        "print(dict3)"
      ],
      "metadata": {
        "colab": {
          "base_uri": "https://localhost:8080/"
        },
        "id": "agHjs01oJnt3",
        "outputId": "876fa41a-41b7-4874-86e0-96fc5bf58d15"
      },
      "execution_count": 27,
      "outputs": [
        {
          "output_type": "stream",
          "name": "stdout",
          "text": [
            "{'a': 1, 'b': 2, 'c': 3, 'd': 4}\n"
          ]
        }
      ]
    },
    {
      "cell_type": "code",
      "source": [
        "# Q30. Write a code to convert a list of strings into a set.\n",
        "\n",
        "my_list = [\"apple\", \"banana\", \"cherry\", \"date\", \"elderberry\"]\n",
        "my_set = set(my_list)\n",
        "print(my_set)"
      ],
      "metadata": {
        "colab": {
          "base_uri": "https://localhost:8080/"
        },
        "id": "CtueKPhsKHqt",
        "outputId": "979617e6-9eff-4bf0-f22c-67fc6f7baaa1"
      },
      "execution_count": 28,
      "outputs": [
        {
          "output_type": "stream",
          "name": "stdout",
          "text": [
            "{'cherry', 'date', 'banana', 'elderberry', 'apple'}\n"
          ]
        }
      ]
    }
  ]
}